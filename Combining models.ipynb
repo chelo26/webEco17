{
 "cells": [
  {
   "cell_type": "code",
   "execution_count": 1,
   "metadata": {
    "collapsed": false
   },
   "outputs": [
    {
     "name": "stdout",
     "output_type": "stream",
     "text": [
      "Populating the interactive namespace from numpy and matplotlib\n"
     ]
    }
   ],
   "source": [
    "from __future__ import division\n",
    "import pandas as pd\n",
    "import numpy as np\n",
    "import matplotlib.pyplot as plt\n",
    "%pylab inline\n"
   ]
  },
  {
   "cell_type": "code",
   "execution_count": 113,
   "metadata": {
    "collapsed": true
   },
   "outputs": [],
   "source": [
    "# Fucntions:\n",
    "def convert(x):\n",
    "    if x>0:\n",
    "        return x\n",
    "    else:\n",
    "        return 0"
   ]
  },
  {
   "cell_type": "code",
   "execution_count": 3,
   "metadata": {
    "collapsed": false
   },
   "outputs": [],
   "source": [
    "# My results:\n",
    "path=\"/Users/Chelo/Documents/UCL/Term2/WebEconomics/project/results_validation2.csv\"\n",
    "res1=pd.read_csv(path,low_memory=False, dtype={'bid_id': object})\n",
    "res1=res1.drop('Unnamed: 0',axis=1)\n",
    "res1=res1.rename(columns={\"pCTR\":\"pCTR_chelo\",\"bidprice\":\"bidprice_chelo\"})\n",
    "res1.loc[259686,\"bid_id\"]='5.13E+31'"
   ]
  },
  {
   "cell_type": "code",
   "execution_count": 4,
   "metadata": {
    "collapsed": false
   },
   "outputs": [],
   "source": [
    "# Ulyses results:\n",
    "res2=pd.read_csv(\"/Users/Chelo/Downloads/csv_result.csv\")\n",
    "res2=res2.drop('Unnamed: 0',axis=1)\n",
    "res2=res2.rename(columns={\"pCTR\":\"pCTR_uly\"})"
   ]
  },
  {
   "cell_type": "code",
   "execution_count": 96,
   "metadata": {
    "collapsed": false
   },
   "outputs": [],
   "source": [
    "# Shafik results:\n",
    "res3=pd.read_csv(\"/Users/Chelo/Downloads/shafik_val.csv\")\n",
    "res3=res3.drop(['Unnamed: 0',\"click\"],axis=1)\n",
    "res3.bidprice_shaf=res3.bidprice_shaf*1000\n",
    "res3.bidprice_shaf=res3.apply(lambda x: convert(x.bidprice_shaf),axis=1)\n",
    "res3=res3.rename(columns={\"pCTR\":\"pCTR_shaf\"})"
   ]
  },
  {
   "cell_type": "code",
   "execution_count": 6,
   "metadata": {
    "collapsed": false
   },
   "outputs": [],
   "source": [
    "total_res = res2.merge(res1, on=['bid_id'],how=\"left\").merge(res3,on=[\"bid_id\"])"
   ]
  },
  {
   "cell_type": "code",
   "execution_count": 7,
   "metadata": {
    "collapsed": false
   },
   "outputs": [],
   "source": [
    "total_res=total_res.drop([\"advertiser_x\",\"advertiser_y\"],axis=1)\n",
    "total_res=total_res.rename(columns={\"click_x\":\"click\",\"payprice_x\":\"payprice\"})\n",
    "total_res=total_res.drop([\"payprice_y\"],axis=1)"
   ]
  },
  {
   "cell_type": "code",
   "execution_count": 9,
   "metadata": {
    "collapsed": true
   },
   "outputs": [],
   "source": [
    "del(res1)\n",
    "del(res2)\n",
    "del(res3)"
   ]
  },
  {
   "cell_type": "code",
   "execution_count": 222,
   "metadata": {
    "collapsed": false
   },
   "outputs": [],
   "source": [
    "def strategy(bid1,bid2,bid3,pCTR1,pCTR2,pCTR3,strategy=\"mean\"):\n",
    "    if strategy==\"max\":\n",
    "        final_bid = max(bid1,bid2,bid3)\n",
    "    if strategy==\"mean\":\n",
    "        final_bid = (bid1+bid2+bid3)/3\n",
    "    if strategy==\"min\":\n",
    "        final_bid = min(bid1,bid2,bid3) \n",
    "    if strategy == \"agreement_max_min\":\n",
    "        mean_pCTR=np.mean([pCTR1,pCTR2,pCTR3])\n",
    "        if mean_pCTR>0.5:\n",
    "            final_bid=max(bid1,bid2,bid3)\n",
    "        else:\n",
    "            final_bid=min(bid1,bid2,bid3)\n",
    "    if strategy == \"agreement_mean_0\":\n",
    "        mean_pCTR=np.mean([pCTR1,pCTR2,pCTR3])\n",
    "        if mean_pCTR>0.5:\n",
    "            final_bid=np.mean([bid1,bid2,bid3])\n",
    "        else:\n",
    "            final_bid=0\n",
    "    if strategy == \"crazy_agreement\":\n",
    "        mean_pCTR=np.mean([pCTR1,pCTR2,pCTR3])\n",
    "        if mean_pCTR>=0.75:\n",
    "            final_bid=max(bid1,bid2,bid3)\n",
    "        elif mean_pCTR>0.5 and mean_pCTR<0.75:\n",
    "            final_bid=np.mean([bid1,bid2,bid3])\n",
    "        else:\n",
    "            final_bid=0\n",
    "    return final_bid"
   ]
  },
  {
   "cell_type": "code",
   "execution_count": 223,
   "metadata": {
    "collapsed": false
   },
   "outputs": [
    {
     "data": {
      "text/html": [
       "<div>\n",
       "<table border=\"1\" class=\"dataframe\">\n",
       "  <thead>\n",
       "    <tr style=\"text-align: right;\">\n",
       "      <th></th>\n",
       "      <th>bid_id</th>\n",
       "      <th>bidprice_uly</th>\n",
       "      <th>pCTR_uly</th>\n",
       "      <th>bidprice_chelo</th>\n",
       "      <th>payprice</th>\n",
       "      <th>pCTR_chelo</th>\n",
       "      <th>click</th>\n",
       "      <th>advertiser</th>\n",
       "      <th>bidprice_shaf</th>\n",
       "      <th>pCTR_shaf</th>\n",
       "    </tr>\n",
       "  </thead>\n",
       "  <tbody>\n",
       "    <tr>\n",
       "      <th>0</th>\n",
       "      <td>91c6a6b9e90c0f54d3230815a5a3e22e</td>\n",
       "      <td>0.0</td>\n",
       "      <td>0.347201</td>\n",
       "      <td>0.028161</td>\n",
       "      <td>102</td>\n",
       "      <td>0.000029</td>\n",
       "      <td>0</td>\n",
       "      <td>3427</td>\n",
       "      <td>0.0</td>\n",
       "      <td>0.148061</td>\n",
       "    </tr>\n",
       "  </tbody>\n",
       "</table>\n",
       "</div>"
      ],
      "text/plain": [
       "                             bid_id  bidprice_uly  pCTR_uly  bidprice_chelo  \\\n",
       "0  91c6a6b9e90c0f54d3230815a5a3e22e           0.0  0.347201        0.028161   \n",
       "\n",
       "   payprice  pCTR_chelo  click  advertiser  bidprice_shaf  pCTR_shaf  \n",
       "0       102    0.000029      0        3427            0.0   0.148061  "
      ]
     },
     "execution_count": 223,
     "metadata": {},
     "output_type": "execute_result"
    }
   ],
   "source": [
    "total_res.head(1)"
   ]
  },
  {
   "cell_type": "code",
   "execution_count": 18,
   "metadata": {
    "collapsed": false,
    "scrolled": true
   },
   "outputs": [],
   "source": [
    "\n",
    "def RTB_simulation(total_res,group_strategy=\"mean\"):\n",
    "    print \"start simulation\"\n",
    "    k=0\n",
    "    impressions=0\n",
    "    clicks=0\n",
    "    spend=0\n",
    "    budget=6250000\n",
    "\n",
    "    results=[]\n",
    "    for row in total_res.iterrows():\n",
    "        # Values:\n",
    "        values=row[1]\n",
    "        # Bids:\n",
    "        bid1=int(values[1])\n",
    "        bid2=int(values[3])\n",
    "        bid3=int(values[8])\n",
    "        # pCTrs:\n",
    "        pCTR1=float(values[2])\n",
    "        pCTR2=float(values[5])\n",
    "        pCTR3=float(values[9])\n",
    "        \n",
    "        payprice=values[4]\n",
    "        click_true=int(values[6])\n",
    "\n",
    "        # apply strategy\n",
    "        final_bid=strategy(bid1,bid2,bid3,pCTR1,pCTR2,pCTR3,strategy=group_strategy)\n",
    "\n",
    "        if final_bid<budget:\n",
    "            k+=1\n",
    "            if final_bid>=payprice:\n",
    "                # Won bid:\n",
    "                impressions+=1\n",
    "                budget-=payprice\n",
    "                spend+=payprice\n",
    "                if click_true==1:\n",
    "                    # There was a click\n",
    "                    clicks+=1\n",
    "    if impressions>0:\n",
    "        pCTR=(clicks/impressions)*100\n",
    "    else:\n",
    "        pCTR=-1\n",
    "    results.append((group_strategy,clicks,impressions,pCTR,spend,k))\n",
    "    print results\n",
    "    return results"
   ]
  },
  {
   "cell_type": "code",
   "execution_count": 224,
   "metadata": {
    "collapsed": false,
    "scrolled": true
   },
   "outputs": [
    {
     "name": "stdout",
     "output_type": "stream",
     "text": [
      "start simulation\n",
      "[('mean', 144, 65807, 0.2188217058975489, 3314893, 299749)]\n",
      "start simulation\n",
      "[('max', 139, 89921, 0.1545801314487161, 6249999, 256837)]\n",
      "start simulation\n",
      "[('min', 35, 7019, 0.49864653084484967, 276147, 299749)]\n"
     ]
    }
   ],
   "source": [
    "results_mean=RTB_simulation(total_res,group_strategy=\"mean\")\n",
    "results_max=RTB_simulation(total_res,group_strategy=\"max\")\n",
    "results_min=RTB_simulation(total_res,group_strategy=\"min\")"
   ]
  },
  {
   "cell_type": "code",
   "execution_count": 225,
   "metadata": {
    "collapsed": false
   },
   "outputs": [
    {
     "name": "stdout",
     "output_type": "stream",
     "text": [
      "start simulation\n",
      "[('agreement_max_min', 153, 49334, 0.31013094417643006, 4251979, 299749)]\n"
     ]
    }
   ],
   "source": [
    "results_agg=RTB_simulation(total_res,group_strategy=\"agreement_max_min\")"
   ]
  },
  {
   "cell_type": "code",
   "execution_count": 226,
   "metadata": {
    "collapsed": false
   },
   "outputs": [
    {
     "name": "stdout",
     "output_type": "stream",
     "text": [
      "start simulation\n",
      "[('agreement_mean_0', 132, 37342, 0.3534893685394462, 2300620, 299749)]\n"
     ]
    }
   ],
   "source": [
    "results_agg_mean=RTB_simulation(total_res,group_strategy=\"agreement_mean_0\")"
   ]
  },
  {
   "cell_type": "code",
   "execution_count": 227,
   "metadata": {
    "collapsed": false
   },
   "outputs": [
    {
     "name": "stdout",
     "output_type": "stream",
     "text": [
      "start simulation\n",
      "[('crazy_agreement', 134, 37460, 0.3577148958889482, 2324947, 299749)]\n"
     ]
    }
   ],
   "source": [
    "results_crazy=RTB_simulation(total_res,group_strategy=\"crazy_agreement\")"
   ]
  },
  {
   "cell_type": "code",
   "execution_count": 236,
   "metadata": {
    "collapsed": false
   },
   "outputs": [],
   "source": [
    "val_results=[]"
   ]
  },
  {
   "cell_type": "code",
   "execution_count": 237,
   "metadata": {
    "collapsed": false
   },
   "outputs": [],
   "source": [
    "val_results=results_mean+results_max+results_min+results_agg+results_agg_mean+results_crazy"
   ]
  },
  {
   "cell_type": "code",
   "execution_count": 240,
   "metadata": {
    "collapsed": true
   },
   "outputs": [],
   "source": [
    "val_results=pd.DataFrame(final_results,columns=[\"Strategy\",\"clicks\",\"impressions\",\"CTR\",\"spend\",\"stop row\"])"
   ]
  },
  {
   "cell_type": "code",
   "execution_count": 241,
   "metadata": {
    "collapsed": false
   },
   "outputs": [],
   "source": [
    "val_results.to_csv(\"validation_res.csv\")"
   ]
  },
  {
   "cell_type": "code",
   "execution_count": 250,
   "metadata": {
    "collapsed": false
   },
   "outputs": [
    {
     "data": {
      "text/html": [
       "<div>\n",
       "<table border=\"1\" class=\"dataframe\">\n",
       "  <thead>\n",
       "    <tr style=\"text-align: right;\">\n",
       "      <th></th>\n",
       "      <th>Strategy</th>\n",
       "      <th>clicks</th>\n",
       "      <th>impressions</th>\n",
       "      <th>CTR</th>\n",
       "      <th>spend</th>\n",
       "      <th>stop row</th>\n",
       "    </tr>\n",
       "  </thead>\n",
       "  <tbody>\n",
       "    <tr>\n",
       "      <th>0</th>\n",
       "      <td>mean</td>\n",
       "      <td>144</td>\n",
       "      <td>65807</td>\n",
       "      <td>0.218822</td>\n",
       "      <td>3314893</td>\n",
       "      <td>299749</td>\n",
       "    </tr>\n",
       "    <tr>\n",
       "      <th>1</th>\n",
       "      <td>max</td>\n",
       "      <td>139</td>\n",
       "      <td>89921</td>\n",
       "      <td>0.154580</td>\n",
       "      <td>6249999</td>\n",
       "      <td>256837</td>\n",
       "    </tr>\n",
       "    <tr>\n",
       "      <th>2</th>\n",
       "      <td>min</td>\n",
       "      <td>35</td>\n",
       "      <td>7019</td>\n",
       "      <td>0.498647</td>\n",
       "      <td>276147</td>\n",
       "      <td>299749</td>\n",
       "    </tr>\n",
       "    <tr>\n",
       "      <th>3</th>\n",
       "      <td>agreement_max_min</td>\n",
       "      <td>153</td>\n",
       "      <td>49334</td>\n",
       "      <td>0.310131</td>\n",
       "      <td>4251979</td>\n",
       "      <td>299749</td>\n",
       "    </tr>\n",
       "    <tr>\n",
       "      <th>4</th>\n",
       "      <td>agreement_mean_0</td>\n",
       "      <td>132</td>\n",
       "      <td>37342</td>\n",
       "      <td>0.353489</td>\n",
       "      <td>2300620</td>\n",
       "      <td>299749</td>\n",
       "    </tr>\n",
       "    <tr>\n",
       "      <th>5</th>\n",
       "      <td>crazy_agreement</td>\n",
       "      <td>134</td>\n",
       "      <td>37460</td>\n",
       "      <td>0.357715</td>\n",
       "      <td>2324947</td>\n",
       "      <td>299749</td>\n",
       "    </tr>\n",
       "  </tbody>\n",
       "</table>\n",
       "</div>"
      ],
      "text/plain": [
       "            Strategy  clicks  impressions       CTR    spend  stop row\n",
       "0               mean     144        65807  0.218822  3314893    299749\n",
       "1                max     139        89921  0.154580  6249999    256837\n",
       "2                min      35         7019  0.498647   276147    299749\n",
       "3  agreement_max_min     153        49334  0.310131  4251979    299749\n",
       "4   agreement_mean_0     132        37342  0.353489  2300620    299749\n",
       "5    crazy_agreement     134        37460  0.357715  2324947    299749"
      ]
     },
     "execution_count": 250,
     "metadata": {},
     "output_type": "execute_result"
    }
   ],
   "source": [
    "\n"
   ]
  },
  {
   "cell_type": "markdown",
   "metadata": {},
   "source": [
    "## TEst set:"
   ]
  },
  {
   "cell_type": "code",
   "execution_count": 202,
   "metadata": {
    "collapsed": true
   },
   "outputs": [],
   "source": [
    "test_path_1=\"/Users/Chelo/Documents/UCL/Term2/WebEconomics/project/test_results_chelo.csv\""
   ]
  },
  {
   "cell_type": "code",
   "execution_count": 203,
   "metadata": {
    "collapsed": false
   },
   "outputs": [],
   "source": [
    "test1=pd.read_csv(test_path_1,low_memory=False, dtype={'bid_id': str})\n",
    "test1=test1.drop('Unnamed: 0',axis=1)\n",
    "test1.bidprice=test1.bidprice.astype(int)\n",
    "test1=test1.rename(columns={\"pCTR\":\"pCTR_chelo\",\"bidprice\":\"bidprice_chelo\",\"bid_id\":\"bidid\"})\n"
   ]
  },
  {
   "cell_type": "code",
   "execution_count": 204,
   "metadata": {
    "collapsed": true
   },
   "outputs": [],
   "source": [
    "# Shafik results:\n",
    "test3=pd.read_csv(\"/Users/Chelo/Downloads/shafik_test.csv\")\n",
    "test3=test3.drop(['Unnamed: 0',\"PayPrice\",\"advertiser\"],axis=1)\n",
    "test3=test3.rename(columns={\"myProb\":\"pCTR_shaf\",\"myBid\":\"bidprice_shaf\",\"bid_id\":\"bidid\"})\n",
    "test3.bidprice_shaf=test3.apply(lambda x: convert(x.bidprice_shaf),axis=1)\n",
    "test3.bidprice_shaf=test3.bidprice_shaf*1000"
   ]
  },
  {
   "cell_type": "code",
   "execution_count": 205,
   "metadata": {
    "collapsed": false
   },
   "outputs": [],
   "source": [
    "# Ulyses results:\n",
    "test2=pd.read_csv(\"/Users/Chelo/Downloads/ulyses_test.csv\",low_memory=False)\n",
    "test2=test2.drop(['0',\"advertiser\"],axis=1)\n",
    "test2=test2.rename(columns={\"pCTR\":\"pCTR_uly\",\"bidprice\":\"bidprice_uly\"})"
   ]
  },
  {
   "cell_type": "code",
   "execution_count": 206,
   "metadata": {
    "collapsed": false
   },
   "outputs": [],
   "source": [
    "total_test = test2.merge(test1, on=['bidid'],how=\"left\").merge(test3,on=[\"bidid\"])"
   ]
  },
  {
   "cell_type": "code",
   "execution_count": 207,
   "metadata": {
    "collapsed": false
   },
   "outputs": [
    {
     "data": {
      "text/html": [
       "<div>\n",
       "<table border=\"1\" class=\"dataframe\">\n",
       "  <thead>\n",
       "    <tr style=\"text-align: right;\">\n",
       "      <th></th>\n",
       "      <th>bidid</th>\n",
       "      <th>bidprice_uly</th>\n",
       "      <th>pCTR_uly</th>\n",
       "      <th>bidprice_chelo</th>\n",
       "      <th>pCTR_chelo</th>\n",
       "      <th>bidprice_shaf</th>\n",
       "      <th>pCTR_shaf</th>\n",
       "    </tr>\n",
       "  </thead>\n",
       "  <tbody>\n",
       "    <tr>\n",
       "      <th>0</th>\n",
       "      <td>fe2e06dff1dfd227471fd1ca717888ac</td>\n",
       "      <td>0.0</td>\n",
       "      <td>0.403661</td>\n",
       "      <td>150</td>\n",
       "      <td>0.35131</td>\n",
       "      <td>0.0</td>\n",
       "      <td>0.635743</td>\n",
       "    </tr>\n",
       "  </tbody>\n",
       "</table>\n",
       "</div>"
      ],
      "text/plain": [
       "                              bidid  bidprice_uly  pCTR_uly  bidprice_chelo  \\\n",
       "0  fe2e06dff1dfd227471fd1ca717888ac           0.0  0.403661             150   \n",
       "\n",
       "   pCTR_chelo  bidprice_shaf  pCTR_shaf  \n",
       "0     0.35131            0.0   0.635743  "
      ]
     },
     "execution_count": 207,
     "metadata": {},
     "output_type": "execute_result"
    }
   ],
   "source": [
    "total_test.head(1)"
   ]
  },
  {
   "cell_type": "code",
   "execution_count": 233,
   "metadata": {
    "collapsed": false
   },
   "outputs": [],
   "source": [
    "\n",
    "def RTB_simulation_test(total_test,group_strategy=\"mean\"):\n",
    "    print \"start simulation\"\n",
    "    k=0\n",
    "    impressions=0\n",
    "    spend=0\n",
    "    budget=6250000\n",
    "\n",
    "    results=[]\n",
    "    for row in total_res.iterrows():\n",
    "        # Values:\n",
    "        values=row[1]\n",
    "        bidid=values[0]\n",
    "        # Bids:\n",
    "        bid1=int(values[1])\n",
    "        bid2=int(values[3])\n",
    "        bid3=int(values[5])\n",
    "        # pCTrs:\n",
    "        pCTR1=float(values[2])\n",
    "        pCTR2=float(values[4])\n",
    "        pCTR3=float(values[6])\n",
    "\n",
    "        # apply strategy\n",
    "        final_bid=strategy(bid1,bid2,bid3,pCTR1,pCTR2,pCTR3,strategy=group_strategy)\n",
    "        \n",
    "        #results.append((bidid,np.mean([bid1,bid2,bid3]),final_bid))\n",
    "        results.append((bidid,final_bid))\n",
    "    return results"
   ]
  },
  {
   "cell_type": "code",
   "execution_count": 234,
   "metadata": {
    "collapsed": false
   },
   "outputs": [
    {
     "name": "stdout",
     "output_type": "stream",
     "text": [
      "start simulation\n"
     ]
    }
   ],
   "source": [
    "test_results=RTB_simulation_test(total_test,group_strategy=\"agreement_max_min\")"
   ]
  },
  {
   "cell_type": "code",
   "execution_count": 246,
   "metadata": {
    "collapsed": false
   },
   "outputs": [],
   "source": [
    "test_df=pd.DataFrame(test_results,columns=[\"bidid\",\"bidprice\"])"
   ]
  },
  {
   "cell_type": "code",
   "execution_count": 249,
   "metadata": {
    "collapsed": false
   },
   "outputs": [],
   "source": [
    "test_df.to_csv(\"testing_bidding_price.csv\")"
   ]
  },
  {
   "cell_type": "code",
   "execution_count": null,
   "metadata": {
    "collapsed": true
   },
   "outputs": [],
   "source": []
  }
 ],
 "metadata": {
  "kernelspec": {
   "display_name": "Python 2",
   "language": "python",
   "name": "python2"
  },
  "language_info": {
   "codemirror_mode": {
    "name": "ipython",
    "version": 2
   },
   "file_extension": ".py",
   "mimetype": "text/x-python",
   "name": "python",
   "nbconvert_exporter": "python",
   "pygments_lexer": "ipython2",
   "version": "2.7.13"
  }
 },
 "nbformat": 4,
 "nbformat_minor": 0
}
