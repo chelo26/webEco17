{
 "cells": [
  {
   "cell_type": "code",
   "execution_count": 75,
   "metadata": {
    "collapsed": true
   },
   "outputs": [],
   "source": [
    "# Libraries:\n",
    "import pandas as pd\n",
    "import numpy as np\n",
    "from __future__ import division"
   ]
  },
  {
   "cell_type": "code",
   "execution_count": 34,
   "metadata": {
    "collapsed": true
   },
   "outputs": [],
   "source": [
    "# Config:\n",
    "# In order to display all the columns:\n",
    "pd.options.display.max_columns = 30\n",
    "pd.options.display.max_rows = 10"
   ]
  },
  {
   "cell_type": "markdown",
   "metadata": {},
   "source": [
    "### Importing datasets:"
   ]
  },
  {
   "cell_type": "code",
   "execution_count": 35,
   "metadata": {
    "collapsed": false
   },
   "outputs": [],
   "source": [
    "# Training set:\n",
    "filepath=\"./dataset/train.csv\" \n",
    "data=pd.read_csv(filepath)\n",
    "# Training set:\n",
    "filepath_val=\"./dataset/validation.csv\"\n",
    "data_val=pd.read_csv(filepath_val)\n",
    "\n",
    "# Testing set:\n",
    "filepath_test=\"./dataset/test.csv\"\n",
    "data_test=pd.read_csv(filepath_test)"
   ]
  },
  {
   "cell_type": "code",
   "execution_count": 61,
   "metadata": {
    "collapsed": true
   },
   "outputs": [],
   "source": [
    "# Functions for analysing data:\n",
    "def print_different_values(dataframe):\n",
    "    print \"total number of datapoints : \"+str(len(dataframe))\n",
    "    for i in dataframe.columns:\n",
    "        set_col=len(dataframe[i].value_counts())\n",
    "        print \"%s has %d different points.\" %(i,set_col)"
   ]
  },
  {
   "cell_type": "code",
   "execution_count": 42,
   "metadata": {
    "collapsed": false
   },
   "outputs": [
    {
     "name": "stdout",
     "output_type": "stream",
     "text": [
      "26\n"
     ]
    },
    {
     "data": {
      "text/html": [
       "<div>\n",
       "<table border=\"1\" class=\"dataframe\">\n",
       "  <thead>\n",
       "    <tr style=\"text-align: right;\">\n",
       "      <th></th>\n",
       "      <th>click</th>\n",
       "      <th>weekday</th>\n",
       "      <th>hour</th>\n",
       "      <th>bidid</th>\n",
       "      <th>logtype</th>\n",
       "      <th>userid</th>\n",
       "      <th>useragent</th>\n",
       "      <th>IP</th>\n",
       "      <th>region</th>\n",
       "      <th>city</th>\n",
       "      <th>adexchange</th>\n",
       "      <th>domain</th>\n",
       "      <th>url</th>\n",
       "      <th>urlid</th>\n",
       "      <th>slotid</th>\n",
       "      <th>slotwidth</th>\n",
       "      <th>slotheight</th>\n",
       "      <th>slotvisibility</th>\n",
       "      <th>slotformat</th>\n",
       "      <th>slotprice</th>\n",
       "      <th>creative</th>\n",
       "      <th>bidprice</th>\n",
       "      <th>payprice</th>\n",
       "      <th>keypage</th>\n",
       "      <th>advertiser</th>\n",
       "      <th>usertag</th>\n",
       "    </tr>\n",
       "  </thead>\n",
       "  <tbody>\n",
       "    <tr>\n",
       "      <th>0</th>\n",
       "      <td>0</td>\n",
       "      <td>1</td>\n",
       "      <td>14</td>\n",
       "      <td>fdfae6789b787899f1b875de3ab8b21a</td>\n",
       "      <td>1</td>\n",
       "      <td>u_Vh1OPkFv3q5CFdR</td>\n",
       "      <td>windows_ie</td>\n",
       "      <td>180.107.112.*</td>\n",
       "      <td>80</td>\n",
       "      <td>85</td>\n",
       "      <td>2</td>\n",
       "      <td>trqRTuToMTNUjM9r5rMi</td>\n",
       "      <td>d48a96ab59d7ad741a48e781de44efeb</td>\n",
       "      <td>null</td>\n",
       "      <td>433287550</td>\n",
       "      <td>468</td>\n",
       "      <td>60</td>\n",
       "      <td>1</td>\n",
       "      <td>0</td>\n",
       "      <td>5</td>\n",
       "      <td>612599432d200b093719dd1f372f7a30</td>\n",
       "      <td>300</td>\n",
       "      <td>54</td>\n",
       "      <td>bebefa5efe83beee17a3d245e7c5085b</td>\n",
       "      <td>1458</td>\n",
       "      <td>13866,10063</td>\n",
       "    </tr>\n",
       "    <tr>\n",
       "      <th>1</th>\n",
       "      <td>0</td>\n",
       "      <td>2</td>\n",
       "      <td>20</td>\n",
       "      <td>372883147cdefbc495fb5082f79dde9b</td>\n",
       "      <td>1</td>\n",
       "      <td>u_VhkRL6dCOTLsq-c</td>\n",
       "      <td>windows_chrome</td>\n",
       "      <td>125.120.199.*</td>\n",
       "      <td>94</td>\n",
       "      <td>95</td>\n",
       "      <td>2</td>\n",
       "      <td>trqRTv14MqTR1m58uG</td>\n",
       "      <td>313e110c149d24b3236165d30879c595</td>\n",
       "      <td>null</td>\n",
       "      <td>2264242698</td>\n",
       "      <td>250</td>\n",
       "      <td>250</td>\n",
       "      <td>1</td>\n",
       "      <td>0</td>\n",
       "      <td>5</td>\n",
       "      <td>8dff45ed862a740986dbe688aafee7e5</td>\n",
       "      <td>249</td>\n",
       "      <td>42</td>\n",
       "      <td>15b749127478946f161a54dc0dad27c8</td>\n",
       "      <td>3476</td>\n",
       "      <td>10063,10111</td>\n",
       "    </tr>\n",
       "    <tr>\n",
       "      <th>2</th>\n",
       "      <td>0</td>\n",
       "      <td>5</td>\n",
       "      <td>9</td>\n",
       "      <td>2912cb5947e1fad450e2473c2f61ef75</td>\n",
       "      <td>1</td>\n",
       "      <td>u_VhkyORMrD8TP3GL</td>\n",
       "      <td>windows_ie</td>\n",
       "      <td>120.196.64.*</td>\n",
       "      <td>216</td>\n",
       "      <td>217</td>\n",
       "      <td>1</td>\n",
       "      <td>trqRTJTxX5scg4</td>\n",
       "      <td>845b72208c27b993daa11c8104449e22</td>\n",
       "      <td>null</td>\n",
       "      <td>mm_40135906_3486753_11388735</td>\n",
       "      <td>336</td>\n",
       "      <td>280</td>\n",
       "      <td>0</td>\n",
       "      <td>1</td>\n",
       "      <td>0</td>\n",
       "      <td>77819d3e0b3467fe5c7b16d68ad923a1</td>\n",
       "      <td>300</td>\n",
       "      <td>76</td>\n",
       "      <td>bebefa5efe83beee17a3d245e7c5085b</td>\n",
       "      <td>1458</td>\n",
       "      <td>10063</td>\n",
       "    </tr>\n",
       "    <tr>\n",
       "      <th>3</th>\n",
       "      <td>0</td>\n",
       "      <td>2</td>\n",
       "      <td>20</td>\n",
       "      <td>d7b7d61d1e50e1d27d210928d28a9b61</td>\n",
       "      <td>1</td>\n",
       "      <td>u_VhkyLRqVL2a4eWL</td>\n",
       "      <td>windows_ie</td>\n",
       "      <td>219.131.122.*</td>\n",
       "      <td>216</td>\n",
       "      <td>221</td>\n",
       "      <td>2</td>\n",
       "      <td>trqRTuMvjTN7X9KbuKz</td>\n",
       "      <td>ea6709db2703ae8698755629f1f9df32</td>\n",
       "      <td>null</td>\n",
       "      <td>2536830969</td>\n",
       "      <td>728</td>\n",
       "      <td>90</td>\n",
       "      <td>0</td>\n",
       "      <td>0</td>\n",
       "      <td>162</td>\n",
       "      <td>7184c9560e68e977187e67e45a4f3198</td>\n",
       "      <td>238</td>\n",
       "      <td>182</td>\n",
       "      <td>0f951a030abdaedd733ee8d114ce2944</td>\n",
       "      <td>3427</td>\n",
       "      <td>10077,10111</td>\n",
       "    </tr>\n",
       "    <tr>\n",
       "      <th>4</th>\n",
       "      <td>0</td>\n",
       "      <td>6</td>\n",
       "      <td>9</td>\n",
       "      <td>657d317dc4045bb79c2652abbea07530</td>\n",
       "      <td>1</td>\n",
       "      <td>u_Vh1zOJuQOtTCBgL</td>\n",
       "      <td>windows_chrome</td>\n",
       "      <td>123.190.78.*</td>\n",
       "      <td>40</td>\n",
       "      <td>48</td>\n",
       "      <td>1</td>\n",
       "      <td>trqRTu1YP5scFsf</td>\n",
       "      <td>b7b8e74eefbdd5cc1a9f0acb2e5c0d6c</td>\n",
       "      <td>null</td>\n",
       "      <td>mm_10075660_3500949_11453278</td>\n",
       "      <td>950</td>\n",
       "      <td>90</td>\n",
       "      <td>0</td>\n",
       "      <td>1</td>\n",
       "      <td>0</td>\n",
       "      <td>c938195f9e404b4f38c7e71bf50263e5</td>\n",
       "      <td>238</td>\n",
       "      <td>34</td>\n",
       "      <td>a3becb967c015e9acb5e72f22b100ef8</td>\n",
       "      <td>3476</td>\n",
       "      <td>10031,13042,10006,10057,13866,10063,14273,1005...</td>\n",
       "    </tr>\n",
       "  </tbody>\n",
       "</table>\n",
       "</div>"
      ],
      "text/plain": [
       "   click  weekday  hour                             bidid  logtype  \\\n",
       "0      0        1    14  fdfae6789b787899f1b875de3ab8b21a        1   \n",
       "1      0        2    20  372883147cdefbc495fb5082f79dde9b        1   \n",
       "2      0        5     9  2912cb5947e1fad450e2473c2f61ef75        1   \n",
       "3      0        2    20  d7b7d61d1e50e1d27d210928d28a9b61        1   \n",
       "4      0        6     9  657d317dc4045bb79c2652abbea07530        1   \n",
       "\n",
       "              userid       useragent             IP  region  city adexchange  \\\n",
       "0  u_Vh1OPkFv3q5CFdR      windows_ie  180.107.112.*      80    85          2   \n",
       "1  u_VhkRL6dCOTLsq-c  windows_chrome  125.120.199.*      94    95          2   \n",
       "2  u_VhkyORMrD8TP3GL      windows_ie   120.196.64.*     216   217          1   \n",
       "3  u_VhkyLRqVL2a4eWL      windows_ie  219.131.122.*     216   221          2   \n",
       "4  u_Vh1zOJuQOtTCBgL  windows_chrome   123.190.78.*      40    48          1   \n",
       "\n",
       "                 domain                               url urlid  \\\n",
       "0  trqRTuToMTNUjM9r5rMi  d48a96ab59d7ad741a48e781de44efeb  null   \n",
       "1    trqRTv14MqTR1m58uG  313e110c149d24b3236165d30879c595  null   \n",
       "2        trqRTJTxX5scg4  845b72208c27b993daa11c8104449e22  null   \n",
       "3   trqRTuMvjTN7X9KbuKz  ea6709db2703ae8698755629f1f9df32  null   \n",
       "4       trqRTu1YP5scFsf  b7b8e74eefbdd5cc1a9f0acb2e5c0d6c  null   \n",
       "\n",
       "                         slotid  slotwidth  slotheight slotvisibility  \\\n",
       "0                     433287550        468          60              1   \n",
       "1                    2264242698        250         250              1   \n",
       "2  mm_40135906_3486753_11388735        336         280              0   \n",
       "3                    2536830969        728          90              0   \n",
       "4  mm_10075660_3500949_11453278        950          90              0   \n",
       "\n",
       "  slotformat  slotprice                          creative  bidprice  payprice  \\\n",
       "0          0          5  612599432d200b093719dd1f372f7a30       300        54   \n",
       "1          0          5  8dff45ed862a740986dbe688aafee7e5       249        42   \n",
       "2          1          0  77819d3e0b3467fe5c7b16d68ad923a1       300        76   \n",
       "3          0        162  7184c9560e68e977187e67e45a4f3198       238       182   \n",
       "4          1          0  c938195f9e404b4f38c7e71bf50263e5       238        34   \n",
       "\n",
       "                            keypage  advertiser  \\\n",
       "0  bebefa5efe83beee17a3d245e7c5085b        1458   \n",
       "1  15b749127478946f161a54dc0dad27c8        3476   \n",
       "2  bebefa5efe83beee17a3d245e7c5085b        1458   \n",
       "3  0f951a030abdaedd733ee8d114ce2944        3427   \n",
       "4  a3becb967c015e9acb5e72f22b100ef8        3476   \n",
       "\n",
       "                                             usertag  \n",
       "0                                        13866,10063  \n",
       "1                                        10063,10111  \n",
       "2                                              10063  \n",
       "3                                        10077,10111  \n",
       "4  10031,13042,10006,10057,13866,10063,14273,1005...  "
      ]
     },
     "execution_count": 42,
     "metadata": {},
     "output_type": "execute_result"
    }
   ],
   "source": [
    "# Analising:\n",
    "print len(data.columns)\n",
    "data.head()"
   ]
  },
  {
   "cell_type": "code",
   "execution_count": 98,
   "metadata": {
    "collapsed": false
   },
   "outputs": [
    {
     "name": "stdout",
     "output_type": "stream",
     "text": [
      "num_clics: 2034\n",
      "num_clics: 2697738\n",
      "CTR: 0.0754%\n"
     ]
    }
   ],
   "source": [
    "# Basic Analysis:\n",
    "# Num click:\n",
    "num_clics=len(data[data.click==1])\n",
    "print \"num_clics: %d\"%num_clics\n",
    "# number of impressions:\n",
    "num_impressions=len(data)\n",
    "print \"num_clics: %d\"%num_impressions\n",
    "# Click through Rate: number of Clicks / number ofImpressions\n",
    "CTR=num_clics/num_impressions\n",
    "print \"CTR: {:.4%}\".format(CTR)   # Showing in percentage!\n",
    "# Cost:\n",
    "total_cost="
   ]
  },
  {
   "cell_type": "code",
   "execution_count": 43,
   "metadata": {
    "collapsed": false
   },
   "outputs": [
    {
     "name": "stdout",
     "output_type": "stream",
     "text": [
      "total number of datapoints : 2697738\n",
      "click has 2 different points.\n",
      "weekday has 7 different points.\n",
      "hour has 24 different points.\n",
      "bidid has 2697738 different points.\n",
      "logtype has 1 different points.\n",
      "userid has 2591064 different points.\n",
      "useragent has 39 different points.\n",
      "IP has 515530 different points.\n",
      "region has 35 different points.\n",
      "city has 370 different points.\n",
      "adexchange has 5 different points.\n",
      "domain has 24087 different points.\n",
      "url has 833453 different points.\n",
      "urlid has 1 different points.\n",
      "slotid has 55983 different points.\n",
      "slotwidth has 21 different points.\n",
      "slotheight has 14 different points.\n",
      "slotvisibility has 11 different points.\n",
      "slotformat has 4 different points.\n",
      "slotprice has 284 different points.\n",
      "creative has 130 different points.\n",
      "bidprice has 8 different points.\n",
      "payprice has 301 different points.\n",
      "keypage has 19 different points.\n",
      "advertiser has 9 different points.\n",
      "usertag has 814364 different points.\n"
     ]
    }
   ],
   "source": [
    "# Number of different values for each column:\n",
    "print_different_values(data)"
   ]
  },
  {
   "cell_type": "markdown",
   "metadata": {},
   "source": [
    "### After checkin the paper of ipinYou got some insights:\n",
    "#### Some Columns description:\n",
    "- logtype: 1 for impression, repeated\n",
    "- useragent: device/OS/browser\n",
    "- adexchange: 1 to 4 id of the \"auction house\"\n",
    "- urlid: null if is anonymous, in this case they all are\n",
    "- slotvisitility: first view means that it appears without the user having to scroll down\n",
    "- bidprice: the \"optimal\" bid price \n",
    "- payprice: highest bid price from competitors, also called \"market price\" or \"auction winning price\"\n",
    "- advertiser: Corresponds ti a different categorie of the advertiser, this could be: \"telecom\", \"Oil\", etc\n",
    "\n",
    "#### Some conclusion:\n",
    "- All the rows represent impressions (showing the ad after winnign the auction) for which the biding price was higher that the payprice and also higher that the other competitors"
   ]
  },
  {
   "cell_type": "code",
   "execution_count": null,
   "metadata": {
    "collapsed": true
   },
   "outputs": [],
   "source": [
    ""
   ]
  },
  {
   "cell_type": "code",
   "execution_count": null,
   "metadata": {
    "collapsed": true
   },
   "outputs": [],
   "source": [
    ""
   ]
  },
  {
   "cell_type": "code",
   "execution_count": null,
   "metadata": {
    "collapsed": true
   },
   "outputs": [],
   "source": [
    ""
   ]
  },
  {
   "cell_type": "code",
   "execution_count": null,
   "metadata": {
    "collapsed": true
   },
   "outputs": [],
   "source": [
    ""
   ]
  },
  {
   "cell_type": "code",
   "execution_count": null,
   "metadata": {
    "collapsed": true
   },
   "outputs": [],
   "source": [
    ""
   ]
  },
  {
   "cell_type": "code",
   "execution_count": null,
   "metadata": {
    "collapsed": true
   },
   "outputs": [],
   "source": [
    ""
   ]
  },
  {
   "cell_type": "code",
   "execution_count": null,
   "metadata": {
    "collapsed": true
   },
   "outputs": [],
   "source": [
    ""
   ]
  },
  {
   "cell_type": "code",
   "execution_count": null,
   "metadata": {
    "collapsed": true
   },
   "outputs": [],
   "source": [
    ""
   ]
  },
  {
   "cell_type": "code",
   "execution_count": null,
   "metadata": {
    "collapsed": true
   },
   "outputs": [],
   "source": [
    ""
   ]
  },
  {
   "cell_type": "code",
   "execution_count": null,
   "metadata": {
    "collapsed": true
   },
   "outputs": [],
   "source": [
    ""
   ]
  }
 ],
 "metadata": {
  "kernelspec": {
   "display_name": "Python 2",
   "language": "python",
   "name": "python2"
  },
  "language_info": {
   "codemirror_mode": {
    "name": "ipython",
    "version": 2.0
   },
   "file_extension": ".py",
   "mimetype": "text/x-python",
   "name": "python",
   "nbconvert_exporter": "python",
   "pygments_lexer": "ipython2",
   "version": "2.7.13"
  }
 },
 "nbformat": 4,
 "nbformat_minor": 0
}