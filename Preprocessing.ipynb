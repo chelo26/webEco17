{
 "cells": [
  {
   "cell_type": "code",
   "execution_count": 1,
   "metadata": {
    "collapsed": false
   },
   "outputs": [
    {
     "name": "stdout",
     "output_type": "stream",
     "text": [
      "Populating the interactive namespace from numpy and matplotlib\n"
     ]
    }
   ],
   "source": [
    "# Libraries:\n",
    "import pandas as pd\n",
    "import numpy as np\n",
    "from __future__ import division\n",
    "import matplotlib.pyplot as plt\n",
    "#plt.style.use('fivethirtyeight')\n",
    "%pylab inline\n",
    "import time\n"
   ]
  },
  {
   "cell_type": "code",
   "execution_count": 2,
   "metadata": {
    "collapsed": true
   },
   "outputs": [],
   "source": [
    "# Config:\n",
    "# In order to display all the columns:\n",
    "pd.options.display.max_columns = 100\n",
    "pd.options.display.max_rows = 50"
   ]
  },
  {
   "cell_type": "markdown",
   "metadata": {},
   "source": [
    "### FUNCTIONS"
   ]
  },
  {
   "cell_type": "code",
   "execution_count": 3,
   "metadata": {
    "collapsed": false
   },
   "outputs": [],
   "source": [
    "# Functions to put data in the correct format for estimation:\n",
    "def get_set_tags(dataframe):\n",
    "    # Use this function to get the set of tags in the document:\n",
    "    user_tags=dataframe.usertag\n",
    "    list_tags=[]\n",
    "    for i in user_tags:\n",
    "        for j in i.split(','):\n",
    "            list_tags.append(j)\n",
    "    set_tags=list(set(list_tags))\n",
    "    return set_tags\n",
    "# removing the null tags:\n",
    "def remove_objects(list_values,obj=\"null\"):\n",
    "    return [x for x in list_values if x != obj]\n",
    "\n",
    "# Functions to separate the usertag columns:\n",
    "def create_tag_index_dictio(training_df,column=\"usertag\",split_char=\",\"):\n",
    "    # Creates a dictionary with key: tag and value: list of rows\n",
    "    tag_series=training_df[column].apply(lambda x:x.split(split_char))\n",
    "    k=0\n",
    "    tag_index={}\n",
    "    for tags_line,index_tag in zip(tag_series,tag_series.index):\n",
    "        k+=1\n",
    "        for tag in tags_line:\n",
    "            if tag != \"null\":\n",
    "                if tag not in tag_index.keys():\n",
    "                    tag_index[tag]=[index_tag]\n",
    "                else:\n",
    "                    tag_index[tag].append(index_tag)\n",
    "        if k%500000==0:\n",
    "            print \"%d completed\"%(k)\n",
    "    return tag_index\n",
    "\n",
    "def get_tagsDF(dictio_tag_index,training_set):\n",
    "    # Create the dictionary with key:usertag, value: list with 1 tha impression correspond to this tag \n",
    "    N=training_set.shape[0]\n",
    "    dictio_tags_values={}\n",
    "    for user_tag in dictio_tag_index.keys():\n",
    "        sparce_array=[0]*N\n",
    "        for i in dictio_tag_index[user_tag]:\n",
    "            sparce_array[i]=1\n",
    "        dictio_tags_values[user_tag]=sparce_array\n",
    "    print \"%d users completed, creating dataframe\"%(len(dictio_tags_values.keys()))\n",
    "    return pd.DataFrame(dictio_tags_values)\n"
   ]
  },
  {
   "cell_type": "markdown",
   "metadata": {},
   "source": [
    "### Importing datasets:"
   ]
  },
  {
   "cell_type": "code",
   "execution_count": 4,
   "metadata": {
    "collapsed": false
   },
   "outputs": [
    {
     "name": "stdout",
     "output_type": "stream",
     "text": [
      "data imported, num rows: 2697738, num cols: 26\n"
     ]
    }
   ],
   "source": [
    "# Training set:\n",
    "start_time=time.time()\n",
    "filepath=\"../dataset/train.csv\" \n",
    "#filepath=\"../dataset/validation.csv\"\n",
    "data=pd.read_csv(filepath)\n",
    "print \"data imported, num rows: %d, num cols: %d\"%(data.shape[0],data.shape[1])\n"
   ]
  },
  {
   "cell_type": "code",
   "execution_count": 5,
   "metadata": {
    "collapsed": true
   },
   "outputs": [],
   "source": [
    "# validation set:\n",
    "#filepath_val=\"../dataset/validation.csv\"\n",
    "#data_val=pd.read_csv(filepath_val)\n",
    "\n",
    "#validation_set=data_val[data_val[\"bidprice\"]>data_val[\"payprice\"]]\n",
    "#validation_set=validation_set.reset_index(drop=True)\n",
    "#print \"validation set: %d rows\"%(validation_set.shape[0])"
   ]
  },
  {
   "cell_type": "code",
   "execution_count": 6,
   "metadata": {
    "collapsed": false
   },
   "outputs": [
    {
     "name": "stdout",
     "output_type": "stream",
     "text": [
      "training set: 2661039 rows\n"
     ]
    }
   ],
   "source": [
    "training_set=data[data[\"bidprice\"]>data[\"payprice\"]]\n",
    "training_set=training_set.reset_index(drop=True)\n",
    "print \"training set: %d rows\"%(training_set.shape[0])"
   ]
  },
  {
   "cell_type": "code",
   "execution_count": 7,
   "metadata": {
    "collapsed": true
   },
   "outputs": [],
   "source": [
    "# According to the iPINyou paper:\n",
    "columns_to_dummy=[\"weekday\",\"hour\",\"region\",\"city\",\"adexchange\",\"slotwidth\",\"slotheight\",\"slotvisibility\",\n",
    "                  \"slotformat\",\"slotprice\"]\n",
    "columns_to_drop=[\"bidid\",\"logtype\",\"userid\",\"urlid\",\"url\",\"bidprice\",\"payprice\",\"keypage\",\"creative\",\"domain\",\"IP\",\"slotid\"]"
   ]
  },
  {
   "cell_type": "code",
   "execution_count": null,
   "metadata": {
    "collapsed": false
   },
   "outputs": [
    {
     "name": "stdout",
     "output_type": "stream",
     "text": [
      "remaining cols: 14\n"
     ]
    }
   ],
   "source": [
    "# Droping columns that we don't use:\n",
    "training_set.drop(columns_to_drop, axis=1, inplace=True)\n",
    "print \"remaining cols: %d\" % (training_set.shape[1])"
   ]
  },
  {
   "cell_type": "code",
   "execution_count": null,
   "metadata": {
    "collapsed": false
   },
   "outputs": [],
   "source": [
    "# Getting the set of tags:\n",
    "list_tags=get_set_tags(training_set)\n",
    "list_tags=remove_objects(list_tags)\n",
    "\n",
    "# creating dictionaries:\n",
    "dictio_tag_index=create_tag_index_dictio(training_set)\n",
    "dictio_os_browser=create_tag_index_dictio(training_set,\"useragent\",\"_\")"
   ]
  },
  {
   "cell_type": "code",
   "execution_count": null,
   "metadata": {
    "collapsed": false
   },
   "outputs": [],
   "source": [
    "# creating new dataframe:\n",
    "N = training_set.shape[0]\n",
    "tags_valuesDF=get_tagsDF(dictio_tag_index,training_set)\n",
    "os_browserDF=get_tagsDF(dictio_os_browser,training_set)"
   ]
  },
  {
   "cell_type": "code",
   "execution_count": null,
   "metadata": {
    "collapsed": true
   },
   "outputs": [],
   "source": [
    "training_set=pd.get_dummies(training_set,columns=columns_to_dummy)"
   ]
  },
  {
   "cell_type": "code",
   "execution_count": null,
   "metadata": {
    "collapsed": false
   },
   "outputs": [],
   "source": [
    "clean_data = pd.concat([training_set, tags_valuesDF,os_browserDF], axis=1)"
   ]
  },
  {
   "cell_type": "code",
   "execution_count": null,
   "metadata": {
    "collapsed": false
   },
   "outputs": [],
   "source": [
    "clean_data.drop([\"useragent\",\"usertag\"],axis=1,inplace=True)"
   ]
  },
  {
   "cell_type": "code",
   "execution_count": null,
   "metadata": {
    "collapsed": false
   },
   "outputs": [],
   "source": [
    "clean_data.head()\n",
    "print(\"--- %s seconds ---\" % (time.time() - start_time))\n"
   ]
  },
  {
   "cell_type": "code",
   "execution_count": null,
   "metadata": {
    "collapsed": true
   },
   "outputs": [],
   "source": [
    "#clean_data.to_csv(\"pp_train_data.csv\")"
   ]
  },
  {
   "cell_type": "code",
   "execution_count": null,
   "metadata": {
    "collapsed": true
   },
   "outputs": [],
   "source": [
    "#x=pd.read_csv(\"pp_train_data.csv\")"
   ]
  },
  {
   "cell_type": "code",
   "execution_count": null,
   "metadata": {
    "collapsed": true
   },
   "outputs": [],
   "source": []
  }
 ],
 "metadata": {
  "kernelspec": {
   "display_name": "Python 2",
   "language": "python",
   "name": "python2"
  },
  "language_info": {
   "codemirror_mode": {
    "name": "ipython",
    "version": 2
   },
   "file_extension": ".py",
   "mimetype": "text/x-python",
   "name": "python",
   "nbconvert_exporter": "python",
   "pygments_lexer": "ipython2",
   "version": "2.7.13"
  }
 },
 "nbformat": 4,
 "nbformat_minor": 0
}
