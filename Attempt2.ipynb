{
 "cells": [
  {
   "cell_type": "code",
   "execution_count": 1,
   "metadata": {
    "collapsed": true
   },
   "outputs": [],
   "source": [
    "from sklearn.linear_model import LogisticRegression\n",
    "import numpy as np\n",
    "from collections import defaultdict\n",
    "from sklearn.feature_extraction import DictVectorizer\n",
    "from sklearn.preprocessing import LabelEncoder\n",
    "from sklearn.metrics import classification_report\n",
    "from sklearn.model_selection import GridSearchCV\n",
    "import string\n",
    "import math\n",
    "import csv\n",
    "import random"
   ]
  },
  {
   "cell_type": "code",
   "execution_count": 2,
   "metadata": {
    "collapsed": true
   },
   "outputs": [],
   "source": [
    "class Bid():\n",
    "    def __init__(self,weekday,hour,bidid,useragent,region,city,adexchange,slotwidth,slotheight,\n",
    "                 slotvisibility,slotformat,slotprice,bidprice, payprice,advertiser,usertag):\n",
    "        self.weekday = weekday #row[1]\n",
    "        self.hour = hour #row[2]\n",
    "        self.bidid = bidid #row[3]\n",
    "        self.useragent = useragent #row[6]\n",
    "        #self.IP = IP\n",
    "        self.region = region #row[8]\n",
    "        self.city = city #row[9]\n",
    "        self.adexchange = adexchange #row[10]\n",
    "        #self.domain = domain\n",
    "        #self.url = url\n",
    "        #self.urlid = urlid\n",
    "        #self.slotid = slotid\n",
    "        self.slotwidth = int(slotwidth) #row[15]\n",
    "        self.slotheight = int(slotheight) #row[16]\n",
    "        self.slotvisibility = slotvisibility #row[17]\n",
    "        self.slotformat = slotformat #row[18]\n",
    "        self.slotprice = int(slotprice) #row[19]\n",
    "        #self.creative = creative\n",
    "        self.bidprice = int(bidprice) #row[21]\n",
    "        self.payprice = int(payprice) #row[22]\n",
    "        #self.keypage = int(keypage)\n",
    "        self.advertiser = advertiser #row[24]\n",
    "        self.usertag = usertag #row[25]\n",
    "        \n",
    "def load_data(filepath):\n",
    "    data = defaultdict(list)\n",
    "    \n",
    "    with open(filepath, 'r') as csvfile:\n",
    "        reader = csv.reader(csvfile, delimiter=',', quotechar='\"')  \n",
    "        next(reader)\n",
    "        i = 0\n",
    "\n",
    "        for row in reader:\n",
    "            if i >= 10000:\n",
    "                break\n",
    "            instance = Bid(row[1],row[2],row[3],row[6],row[8],row[9],row[10],row[15],row[16],row[17],\\\n",
    "                          row[18],row[19],row[21],row[22],row[24],row[25])\n",
    "            data[row[24]].append((instance,int(row[0])))\n",
    "            i += 1\n",
    "            \n",
    "    return data\n",
    "\n",
    "def load_data2(filepath):\n",
    "    data = defaultdict(list)\n",
    "    labels = defaultdict(list)\n",
    "    \n",
    "    with open(filepath, 'r') as csvfile:\n",
    "        reader = csv.reader(csvfile, delimiter=',', quotechar='\"')  \n",
    "        next(reader)\n",
    "        #i = 0\n",
    "\n",
    "        for row in reader:\n",
    "            #if i >= 100000:\n",
    "            #    break\n",
    "            \n",
    "            usertags = row[25].split(',')\n",
    "            #do the thing\n",
    "            temp_dict = {}\n",
    "            for tag in usertags:\n",
    "                temp_dict[\"tag \" + tag] = True\n",
    "                       \n",
    "            instance = {'weekday':row[1],'hour':row[2],'useragent':row[6],'region':row[8],\\\n",
    "                        'city':row[9],'adexchange':row[10],'slotwidth':int(row[15]),'slotheight':int(row[16]),\\\n",
    "                        'slotvisibility':row[17],'slotformat':row[18],'slotprice':int(row[19]),\\\n",
    "                        'bidprice':int(row[21]),'payprice':int(row[22]),'advertiser':row[24]}\n",
    "            \n",
    "            instance.update(temp_dict)\n",
    "            data[row[24]].append(instance)\n",
    "            labels[row[24]].append(int(row[0]))\n",
    "            #i += 1\n",
    "            \n",
    "    return data,labels"
   ]
  },
  {
   "cell_type": "code",
   "execution_count": 3,
   "metadata": {
    "collapsed": false
   },
   "outputs": [],
   "source": [
    "training_path = r\"/home/jovyan/work/Desktop/Desktop/UCL/WebEcon/dataset/train.csv\"\n",
    "validation_path = r\"/home/jovyan/work/Desktop/Desktop/UCL/WebEcon/dataset/validation.csv\"\n",
    "training_events,labels = load_data2(training_path)"
   ]
  },
  {
   "cell_type": "code",
   "execution_count": 33,
   "metadata": {
    "collapsed": false
   },
   "outputs": [
    {
     "name": "stdout",
     "output_type": "stream",
     "text": [
      "windows_ie\n"
     ]
    }
   ],
   "source": [
    "print(training_data['3358'][0]['useragent'])"
   ]
  },
  {
   "cell_type": "code",
   "execution_count": 4,
   "metadata": {
    "collapsed": true
   },
   "outputs": [],
   "source": [
    "# converts labels into integers, and vice versa, needed by scikit-learn.\n",
    "#label_encoder = LabelEncoder()\n",
    "# encodes feature dictionaries as numpy vectors, needed by scikit-learn.\n",
    "#vectorizer = DictVectorizer()\n",
    "\n",
    "def predict_event_labels(instance, advertiser, models:dict):    \n",
    "    lr = models[advertiser][0]\n",
    "    label_encoder = models[advertiser][1]\n",
    "    vectorizer = models[advertiser][2]  \n",
    "    event = [instance]\n",
    "    event_x = vectorizer.transform(event)\n",
    "    event_y = label_encoder.inverse_transform(lr.predict(event_x))\n",
    "\n",
    "    return event_y"
   ]
  },
  {
   "cell_type": "code",
   "execution_count": 8,
   "metadata": {
    "collapsed": true
   },
   "outputs": [],
   "source": [
    "def train(data,labels):\n",
    "    bidprices = {}\n",
    "    models = {}\n",
    "    for key in data.keys():\n",
    "        #get contant price to bid\n",
    "        current_data = data[key]\n",
    "        \n",
    "        summ = 0\n",
    "        i = 0\n",
    "        for item in current_data:\n",
    "            summ += item['payprice']\n",
    "            i += 1\n",
    "        \n",
    "        bidprices[key] = summ/i\n",
    "        \n",
    "        label_encoder = LabelEncoder()\n",
    "        vectorizer = DictVectorizer()\n",
    "        \n",
    "        train_event_x = vectorizer.fit_transform(current_data)\n",
    "        train_event_y = label_encoder.fit_transform(labels[key])\n",
    "    \n",
    "        #Create and train the model.\n",
    "        p = 0.13\n",
    "        lr = LogisticRegression(C=p)\n",
    "        lr.fit(train_event_x, train_event_y)\n",
    "        models[key] = (lr,label_encoder,vectorizer)\n",
    "    \n",
    "    return models,bidprices\n",
    "\n",
    "def process_event(row):\n",
    "    instance = {'weekday':row[1],'hour':row[2],'useragent':row[6],'region':row[8],\\\n",
    "                'city':row[9],'adexchange':row[10],'slotwidth':int(row[15]),'slotheight':int(row[16]),\\\n",
    "                'slotvisibility':row[17],'slotformat':row[18],'slotprice':int(row[19]),\\\n",
    "                'bidprice':int(row[21]),'payprice':int(row[22]),'advertiser':row[24]}\n",
    "    \n",
    "    usertags = row[25].split(',')\n",
    "    \n",
    "    temp_dict = {}\n",
    "    for tag in usertags:\n",
    "        temp_dict[\"tag \" + tag] = True\n",
    "    instance.update(temp_dict)\n",
    "    \n",
    "    return instance"
   ]
  },
  {
   "cell_type": "code",
   "execution_count": 10,
   "metadata": {
    "collapsed": true
   },
   "outputs": [],
   "source": [
    "def RTB_simulation(mode,filepath,models,param=None): #param is the dictionary with the bidprice per advertiser\n",
    "    impressions = 0\n",
    "    clicks = 0\n",
    "    budget = 25000\n",
    "    if mode == 'constant' and param is not None:\n",
    "        with open(filepath, 'r') as csvfile:\n",
    "            reader = csv.reader(csvfile, delimiter=',', quotechar='\"')\n",
    "            next(reader)\n",
    "            \n",
    "            for row in reader:\n",
    "                advertiser = row[24]\n",
    "                conts_payprice = param[advertiser]\n",
    "                if budget > conts_payprice:\n",
    "                    instance = process_event(row)\n",
    "                    if predict_event_labels(instance,advertiser,models) > 0.5:\n",
    "                        payprice = instance['payprice']\n",
    "                        if conts_payprice > payprice:\n",
    "                            impressions += 1\n",
    "                            budget -= conts_payprice\n",
    "                            if row[0] == \"1\":\n",
    "                                clicks += 1\n",
    "                        \n",
    "    if mode == 'random' and param is not None:\n",
    "        with open(filepath, 'r') as csvfile:\n",
    "            reader = csv.reader(csvfile, delimiter=',', quotechar='\"')\n",
    "            next(reader)\n",
    "            \n",
    "            for row in reader:\n",
    "                current_bid = random.randrange(param)\n",
    "                if budget > current_bid:\n",
    "                    payprice = int(row[22])\n",
    "                    if current_bid > payprice:\n",
    "                        impressions += 1\n",
    "                        budget =- current_bid\n",
    "                        if row[0] == \"1\":\n",
    "                            clicks += 1\n",
    "                            \n",
    "    print(\"Impressions:{0}\".format(impressions))\n",
    "    print(\"Clicks:{0}\".format(clicks))\n",
    "    if impressions > 0:\n",
    "        return (clicks/impressions)*100\n",
    "    else:\n",
    "        return -1"
   ]
  },
  {
   "cell_type": "code",
   "execution_count": 7,
   "metadata": {
    "collapsed": false
   },
   "outputs": [
    {
     "name": "stdout",
     "output_type": "stream",
     "text": [
      "Trainin done\n"
     ]
    }
   ],
   "source": [
    "models,bidprices = train(training_events,labels)\n",
    "print('Trainin done')"
   ]
  },
  {
   "cell_type": "code",
   "execution_count": 11,
   "metadata": {
    "collapsed": false
   },
   "outputs": [
    {
     "name": "stdout",
     "output_type": "stream",
     "text": [
      "Simulation\n",
      "Impressions:4\n",
      "Clicks:2\n",
      "CTR:50.0%\n"
     ]
    }
   ],
   "source": [
    "print(\"Simulation\")\n",
    "CTR = RTB_simulation(\"constant\",validation_path,models,param=bidprices)\n",
    "print(\"CTR:\" + str(CTR) + \"%\")"
   ]
  },
  {
   "cell_type": "code",
   "execution_count": null,
   "metadata": {
    "collapsed": true
   },
   "outputs": [],
   "source": []
  }
 ],
 "metadata": {
  "kernelspec": {
   "display_name": "Python 3",
   "language": "python",
   "name": "python3"
  },
  "language_info": {
   "codemirror_mode": {
    "name": "ipython",
    "version": 3
   },
   "file_extension": ".py",
   "mimetype": "text/x-python",
   "name": "python",
   "nbconvert_exporter": "python",
   "pygments_lexer": "ipython3",
   "version": "3.5.2"
  }
 },
 "nbformat": 4,
 "nbformat_minor": 0
}
