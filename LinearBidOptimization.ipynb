{
 "cells": [
  {
   "cell_type": "code",
   "execution_count": 1,
   "metadata": {
    "collapsed": true
   },
   "outputs": [],
   "source": [
    "from sklearn.linear_model import LogisticRegression\n",
    "import numpy as np\n",
    "from collections import defaultdict\n",
    "from sklearn.feature_extraction import DictVectorizer\n",
    "from sklearn.preprocessing import LabelEncoder\n",
    "from sklearn.metrics import classification_report\n",
    "from sklearn.model_selection import GridSearchCV\n",
    "from __future__ import division\n",
    "import string\n",
    "import math\n",
    "import csv\n",
    "import random\n",
    "import time\n",
    "import pandas as pd\n",
    "\n",
    "training_path = r\"/home/jovyan/work/Desktop/Desktop/UCL/WebEcon/dataset/train.csv\"\n",
    "validation_path = r\"/home/jovyan/work/Desktop/Desktop/UCL/WebEcon/dataset/validation.csv\""
   ]
  },
  {
   "cell_type": "code",
   "execution_count": 2,
   "metadata": {
    "collapsed": true
   },
   "outputs": [],
   "source": [
    "def get_std_slotprice(path,column=\"slotprice\"):\n",
    "    df = pd.read_csv(path, skipinitialspace=True, usecols=[column])\n",
    "    return int(df.slotprice.values.std())\n",
    "\n",
    "def get_LRS_params(path):\n",
    "    df=pd.read_csv(path)\n",
    "    avgCTR=(df.click.sum()/df.shape[0])*100\n",
    "    base_bid=df.payprice.mean()\n",
    "    return avgCTR,base_bid\n",
    "\n",
    "def load_data(filepath,training=True):\n",
    "    data = list()\n",
    "    labels = list()\n",
    "    # std of slotprice for nomalization\n",
    "    STD_SLOTPRICE = get_std_slotprice(filepath,column=\"slotprice\")\n",
    "    print(\"std stored\")\n",
    "    with open(filepath, 'r') as csvfile:\n",
    "        reader = csv.reader(csvfile, delimiter=',', quotechar='\"')\n",
    "        # pass header:\n",
    "        next(reader)\n",
    "        # Iterate:\n",
    "        for row in reader:\n",
    "            instance=process_event(row,STD_SLOTPRICE,training)\n",
    "            data.append(instance)\n",
    "            labels.append(int(row[0]))\n",
    "    print(\"data and labels loaded\")\n",
    "    return data,labels\n",
    "\n",
    "\n",
    "def train(training_data, labels):\n",
    "    bidprices = {}\n",
    "    models = {}\n",
    "\n",
    "    label_encoder = LabelEncoder()\n",
    "    vectorizer = DictVectorizer()\n",
    "\n",
    "    train_event_x = vectorizer.fit_transform(training_data)\n",
    "    train_event_y = label_encoder.fit_transform(labels)\n",
    "\n",
    "    # Getting the class weight to rebalance data:\n",
    "    neg_weight = sum(labels) / len(labels)\n",
    "    pos_weight = 1 - neg_weight\n",
    "\n",
    "    # Create and train the model.\n",
    "    p = 0.34\n",
    "    lr = LogisticRegression(C=p, class_weight={1: pos_weight, 0: neg_weight})\n",
    "    lr.fit(train_event_x, train_event_y)\n",
    "    model = (lr, label_encoder, vectorizer)\n",
    "    print('Training done')\n",
    "    return model, train_event_x\n",
    "\n",
    "\n",
    "def process_event(row,STD_SLOTPRICE,training=True):\n",
    "    # Initilize instance:\n",
    "    if training==True:\n",
    "        instance = {'weekday': row[1], 'hour': row[2], 'region': row[8], \\\n",
    "                    'city': row[9], 'adexchange': row[10], 'slotwidth': row[15], 'slotheight': row[16], \\\n",
    "                    'slotvisibility': row[17], 'slotformat': row[18], 'slotprice': float(row[19]) / STD_SLOTPRICE, \\\n",
    "                    'advertiser': row[24]}\n",
    "    else:\n",
    "        instance = {'weekday': row[1], 'hour': row[2], 'region': row[8], \\\n",
    "                    'city': row[9], 'adexchange': row[10], 'slotwidth': row[15], 'slotheight': row[16], \\\n",
    "                    'slotvisibility': row[17],'payprice':int(row[22]), 'slotformat': row[18], 'slotprice': float(row[19]) / STD_SLOTPRICE, \\\n",
    "                    'advertiser': row[24]}\n",
    "\n",
    "    # Add usertags:\n",
    "    usertags = row[25].split(',')\n",
    "    temp_dict = {}\n",
    "    for tag in usertags:\n",
    "        temp_dict[\"tag \" + tag] = True\n",
    "    instance.update(temp_dict)\n",
    "    # add OS and browser:\n",
    "    op_sys, browser = row[6].split('_')\n",
    "    instance.update({op_sys: True, browser: True})\n",
    "    return instance\n",
    "\n",
    "def predict_event_labels(instance, model): # models:dict\n",
    "    lr = model[0]\n",
    "    # Transform event:\n",
    "    label_encoder = model[1]\n",
    "    vectorizer = model[2]\n",
    "    event = [instance]\n",
    "    event_x = vectorizer.transform(event)\n",
    "    #event_y = label_encoder.inverse_transform(lr.predict(event_x))\n",
    "    event_y = lr.predict_proba(event_x)\n",
    "    return event_y[0][1]\n",
    "\n",
    "# param is the dictionary with the bidprice per advertiser\n",
    "def RTB_simulation_linear(model, validation_path, training_path, base_bid, start_budget = 25000):\n",
    "    impressions = 0\n",
    "    clicks = 0\n",
    "    budget=start_budget\n",
    "    # Calculate the standard deviation for slotprice\n",
    "    STD_SLOTPRICE = get_std_slotprice(validation_path)\n",
    "\n",
    "    # Linear Stragegy:\n",
    "    #avgCTR,_ = get_LRS_params(training_path)\n",
    "    avgCTR = 0.0753964988446\n",
    "\n",
    "    with open(validation_path, 'r') as csvfile:\n",
    "        reader = csv.reader(csvfile, delimiter=',', quotechar='\"')\n",
    "        next(reader)\n",
    "        for row in reader:\n",
    "\n",
    "            # parsing event:\n",
    "            instance = process_event(row, STD_SLOTPRICE, training=False)\n",
    "\n",
    "            # Predicting CTR:\n",
    "            pCTR = predict_event_labels(instance, model)\n",
    "            #print \"pctr: \"+str(pCTR)\n",
    "\n",
    "            # Calculate the bid:\n",
    "            current_bid = base_bid * pCTR / avgCTR\n",
    "\n",
    "            # Check if we still have budget:\n",
    "            if budget > current_bid:\n",
    "\n",
    "                # Get the market price:\n",
    "                payprice = instance['payprice']\n",
    "\n",
    "                print(\"current bid : %d , payprice: %d, click? : %d\" % (int(current_bid), int(payprice),row[0]))\n",
    "\n",
    "                # Check if we win the bid:\n",
    "                if current_bid > payprice:\n",
    "                    impressions += 1\n",
    "                    budget -= payprice\n",
    "                    # Check if the person clicks:\n",
    "                    if row[0] == \"1\":\n",
    "                        clicks += 1\n",
    "\n",
    "\n",
    "    print(\"Impressions:{0}\".format(impressions))\n",
    "    print(\"Clicks:{0}\".format(clicks))\n",
    "    if impressions > 0:\n",
    "        return (clicks / impressions) * 100\n",
    "    else:\n",
    "        return -1"
   ]
  },
  {
   "cell_type": "code",
   "execution_count": 3,
   "metadata": {
    "collapsed": false
   },
   "outputs": [
    {
     "name": "stdout",
     "output_type": "stream",
     "text": [
      "0.0753964988446\n",
      "80.2510247474\n"
     ]
    }
   ],
   "source": [
    "#avgCTR,x = get_LRS_params(training_path)\n",
    "#print(avgCTR)\n",
    "#print(x)"
   ]
  },
  {
   "cell_type": "code",
   "execution_count": 3,
   "metadata": {
    "collapsed": false
   },
   "outputs": [
    {
     "name": "stdout",
     "output_type": "stream",
     "text": [
      "std stored\n",
      "data and labels loaded\n"
     ]
    }
   ],
   "source": [
    "# Extracting data:\n",
    "training_events, labels = load_data(training_path)"
   ]
  },
  {
   "cell_type": "code",
   "execution_count": 4,
   "metadata": {
    "collapsed": false
   },
   "outputs": [
    {
     "ename": "MemoryError",
     "evalue": "",
     "output_type": "error",
     "traceback": [
      "\u001b[0;31m---------------------------------------------------------------------------\u001b[0m",
      "\u001b[0;31mMemoryError\u001b[0m                               Traceback (most recent call last)",
      "\u001b[0;32m<ipython-input-4-58a46c55edce>\u001b[0m in \u001b[0;36m<module>\u001b[0;34m()\u001b[0m\n\u001b[1;32m      1\u001b[0m \u001b[0;31m# training model\u001b[0m\u001b[0;34m\u001b[0m\u001b[0;34m\u001b[0m\u001b[0m\n\u001b[0;32m----> 2\u001b[0;31m \u001b[0mmodel\u001b[0m\u001b[0;34m,\u001b[0m\u001b[0mtrain_vec_x\u001b[0m \u001b[0;34m=\u001b[0m \u001b[0mtrain\u001b[0m\u001b[0;34m(\u001b[0m\u001b[0mtraining_events\u001b[0m\u001b[0;34m,\u001b[0m \u001b[0mlabels\u001b[0m\u001b[0;34m)\u001b[0m\u001b[0;34m\u001b[0m\u001b[0m\n\u001b[0m",
      "\u001b[0;32m<ipython-input-2-5c456662786a>\u001b[0m in \u001b[0;36mtrain\u001b[0;34m(training_data, labels)\u001b[0m\n\u001b[1;32m     35\u001b[0m     \u001b[0mvectorizer\u001b[0m \u001b[0;34m=\u001b[0m \u001b[0mDictVectorizer\u001b[0m\u001b[0;34m(\u001b[0m\u001b[0;34m)\u001b[0m\u001b[0;34m\u001b[0m\u001b[0m\n\u001b[1;32m     36\u001b[0m \u001b[0;34m\u001b[0m\u001b[0m\n\u001b[0;32m---> 37\u001b[0;31m     \u001b[0mtrain_event_x\u001b[0m \u001b[0;34m=\u001b[0m \u001b[0mvectorizer\u001b[0m\u001b[0;34m.\u001b[0m\u001b[0mfit_transform\u001b[0m\u001b[0;34m(\u001b[0m\u001b[0mtraining_data\u001b[0m\u001b[0;34m)\u001b[0m\u001b[0;34m\u001b[0m\u001b[0m\n\u001b[0m\u001b[1;32m     38\u001b[0m     \u001b[0mtrain_event_y\u001b[0m \u001b[0;34m=\u001b[0m \u001b[0mlabel_encoder\u001b[0m\u001b[0;34m.\u001b[0m\u001b[0mfit_transform\u001b[0m\u001b[0;34m(\u001b[0m\u001b[0mlabels\u001b[0m\u001b[0;34m)\u001b[0m\u001b[0;34m\u001b[0m\u001b[0m\n\u001b[1;32m     39\u001b[0m \u001b[0;34m\u001b[0m\u001b[0m\n",
      "\u001b[0;32m/opt/conda/lib/python3.5/site-packages/sklearn/feature_extraction/dict_vectorizer.py\u001b[0m in \u001b[0;36mfit_transform\u001b[0;34m(self, X, y)\u001b[0m\n\u001b[1;32m    229\u001b[0m             \u001b[0mFeature\u001b[0m \u001b[0mvectors\u001b[0m\u001b[0;34m;\u001b[0m \u001b[0malways\u001b[0m \u001b[0;36m2\u001b[0m\u001b[0;34m-\u001b[0m\u001b[0md\u001b[0m\u001b[0;34m.\u001b[0m\u001b[0;34m\u001b[0m\u001b[0m\n\u001b[1;32m    230\u001b[0m         \"\"\"\n\u001b[0;32m--> 231\u001b[0;31m         \u001b[0;32mreturn\u001b[0m \u001b[0mself\u001b[0m\u001b[0;34m.\u001b[0m\u001b[0m_transform\u001b[0m\u001b[0;34m(\u001b[0m\u001b[0mX\u001b[0m\u001b[0;34m,\u001b[0m \u001b[0mfitting\u001b[0m\u001b[0;34m=\u001b[0m\u001b[0;32mTrue\u001b[0m\u001b[0;34m)\u001b[0m\u001b[0;34m\u001b[0m\u001b[0m\n\u001b[0m\u001b[1;32m    232\u001b[0m \u001b[0;34m\u001b[0m\u001b[0m\n\u001b[1;32m    233\u001b[0m     \u001b[0;32mdef\u001b[0m \u001b[0minverse_transform\u001b[0m\u001b[0;34m(\u001b[0m\u001b[0mself\u001b[0m\u001b[0;34m,\u001b[0m \u001b[0mX\u001b[0m\u001b[0;34m,\u001b[0m \u001b[0mdict_type\u001b[0m\u001b[0;34m=\u001b[0m\u001b[0mdict\u001b[0m\u001b[0;34m)\u001b[0m\u001b[0;34m:\u001b[0m\u001b[0;34m\u001b[0m\u001b[0m\n",
      "\u001b[0;32m/opt/conda/lib/python3.5/site-packages/sklearn/feature_extraction/dict_vectorizer.py\u001b[0m in \u001b[0;36m_transform\u001b[0;34m(self, X, fitting)\u001b[0m\n\u001b[1;32m    198\u001b[0m                 \u001b[0mmap_index\u001b[0m\u001b[0;34m[\u001b[0m\u001b[0mnew_val\u001b[0m\u001b[0;34m]\u001b[0m \u001b[0;34m=\u001b[0m \u001b[0mvocab\u001b[0m\u001b[0;34m[\u001b[0m\u001b[0mf\u001b[0m\u001b[0;34m]\u001b[0m\u001b[0;34m\u001b[0m\u001b[0m\n\u001b[1;32m    199\u001b[0m                 \u001b[0mvocab\u001b[0m\u001b[0;34m[\u001b[0m\u001b[0mf\u001b[0m\u001b[0;34m]\u001b[0m \u001b[0;34m=\u001b[0m \u001b[0mnew_val\u001b[0m\u001b[0;34m\u001b[0m\u001b[0m\n\u001b[0;32m--> 200\u001b[0;31m             \u001b[0mresult_matrix\u001b[0m \u001b[0;34m=\u001b[0m \u001b[0mresult_matrix\u001b[0m\u001b[0;34m[\u001b[0m\u001b[0;34m:\u001b[0m\u001b[0;34m,\u001b[0m \u001b[0mmap_index\u001b[0m\u001b[0;34m]\u001b[0m\u001b[0;34m\u001b[0m\u001b[0m\n\u001b[0m\u001b[1;32m    201\u001b[0m \u001b[0;34m\u001b[0m\u001b[0m\n\u001b[1;32m    202\u001b[0m         \u001b[0;32mif\u001b[0m \u001b[0mself\u001b[0m\u001b[0;34m.\u001b[0m\u001b[0msparse\u001b[0m\u001b[0;34m:\u001b[0m\u001b[0;34m\u001b[0m\u001b[0m\n",
      "\u001b[0;32m/opt/conda/lib/python3.5/site-packages/scipy/sparse/csr.py\u001b[0m in \u001b[0;36m__getitem__\u001b[0;34m(self, key)\u001b[0m\n\u001b[1;32m    309\u001b[0m                 \u001b[0;32mif\u001b[0m \u001b[0mrow\u001b[0m \u001b[0;34m!=\u001b[0m \u001b[0mslice\u001b[0m\u001b[0;34m(\u001b[0m\u001b[0;32mNone\u001b[0m\u001b[0;34m,\u001b[0m \u001b[0;32mNone\u001b[0m\u001b[0;34m,\u001b[0m \u001b[0;32mNone\u001b[0m\u001b[0;34m)\u001b[0m\u001b[0;34m:\u001b[0m\u001b[0;34m\u001b[0m\u001b[0m\n\u001b[1;32m    310\u001b[0m                     \u001b[0msliced\u001b[0m \u001b[0;34m=\u001b[0m \u001b[0msliced\u001b[0m\u001b[0;34m[\u001b[0m\u001b[0mrow\u001b[0m\u001b[0;34m,\u001b[0m\u001b[0;34m:\u001b[0m\u001b[0;34m]\u001b[0m\u001b[0;34m\u001b[0m\u001b[0m\n\u001b[0;32m--> 311\u001b[0;31m                 \u001b[0;32mreturn\u001b[0m \u001b[0msliced\u001b[0m \u001b[0;34m*\u001b[0m \u001b[0mP\u001b[0m\u001b[0;34m\u001b[0m\u001b[0m\n\u001b[0m\u001b[1;32m    312\u001b[0m \u001b[0;34m\u001b[0m\u001b[0m\n\u001b[1;32m    313\u001b[0m         \u001b[0;32melif\u001b[0m \u001b[0missequence\u001b[0m\u001b[0;34m(\u001b[0m\u001b[0mrow\u001b[0m\u001b[0;34m)\u001b[0m\u001b[0;34m:\u001b[0m\u001b[0;34m\u001b[0m\u001b[0m\n",
      "\u001b[0;32m/opt/conda/lib/python3.5/site-packages/scipy/sparse/base.py\u001b[0m in \u001b[0;36m__mul__\u001b[0;34m(self, other)\u001b[0m\n\u001b[1;32m    351\u001b[0m             \u001b[0;32mif\u001b[0m \u001b[0mself\u001b[0m\u001b[0;34m.\u001b[0m\u001b[0mshape\u001b[0m\u001b[0;34m[\u001b[0m\u001b[0;36m1\u001b[0m\u001b[0;34m]\u001b[0m \u001b[0;34m!=\u001b[0m \u001b[0mother\u001b[0m\u001b[0;34m.\u001b[0m\u001b[0mshape\u001b[0m\u001b[0;34m[\u001b[0m\u001b[0;36m0\u001b[0m\u001b[0;34m]\u001b[0m\u001b[0;34m:\u001b[0m\u001b[0;34m\u001b[0m\u001b[0m\n\u001b[1;32m    352\u001b[0m                 \u001b[0;32mraise\u001b[0m \u001b[0mValueError\u001b[0m\u001b[0;34m(\u001b[0m\u001b[0;34m'dimension mismatch'\u001b[0m\u001b[0;34m)\u001b[0m\u001b[0;34m\u001b[0m\u001b[0m\n\u001b[0;32m--> 353\u001b[0;31m             \u001b[0;32mreturn\u001b[0m \u001b[0mself\u001b[0m\u001b[0;34m.\u001b[0m\u001b[0m_mul_sparse_matrix\u001b[0m\u001b[0;34m(\u001b[0m\u001b[0mother\u001b[0m\u001b[0;34m)\u001b[0m\u001b[0;34m\u001b[0m\u001b[0m\n\u001b[0m\u001b[1;32m    354\u001b[0m \u001b[0;34m\u001b[0m\u001b[0m\n\u001b[1;32m    355\u001b[0m         \u001b[0;32mtry\u001b[0m\u001b[0;34m:\u001b[0m\u001b[0;34m\u001b[0m\u001b[0m\n",
      "\u001b[0;32m/opt/conda/lib/python3.5/site-packages/scipy/sparse/compressed.py\u001b[0m in \u001b[0;36m_mul_sparse_matrix\u001b[0;34m(self, other)\u001b[0m\n\u001b[1;32m    494\u001b[0m                                     maxval=nnz)\n\u001b[1;32m    495\u001b[0m         \u001b[0mindptr\u001b[0m \u001b[0;34m=\u001b[0m \u001b[0mnp\u001b[0m\u001b[0;34m.\u001b[0m\u001b[0masarray\u001b[0m\u001b[0;34m(\u001b[0m\u001b[0mindptr\u001b[0m\u001b[0;34m,\u001b[0m \u001b[0mdtype\u001b[0m\u001b[0;34m=\u001b[0m\u001b[0midx_dtype\u001b[0m\u001b[0;34m)\u001b[0m\u001b[0;34m\u001b[0m\u001b[0m\n\u001b[0;32m--> 496\u001b[0;31m         \u001b[0mindices\u001b[0m \u001b[0;34m=\u001b[0m \u001b[0mnp\u001b[0m\u001b[0;34m.\u001b[0m\u001b[0mempty\u001b[0m\u001b[0;34m(\u001b[0m\u001b[0mnnz\u001b[0m\u001b[0;34m,\u001b[0m \u001b[0mdtype\u001b[0m\u001b[0;34m=\u001b[0m\u001b[0midx_dtype\u001b[0m\u001b[0;34m)\u001b[0m\u001b[0;34m\u001b[0m\u001b[0m\n\u001b[0m\u001b[1;32m    497\u001b[0m         \u001b[0mdata\u001b[0m \u001b[0;34m=\u001b[0m \u001b[0mnp\u001b[0m\u001b[0;34m.\u001b[0m\u001b[0mempty\u001b[0m\u001b[0;34m(\u001b[0m\u001b[0mnnz\u001b[0m\u001b[0;34m,\u001b[0m \u001b[0mdtype\u001b[0m\u001b[0;34m=\u001b[0m\u001b[0mupcast\u001b[0m\u001b[0;34m(\u001b[0m\u001b[0mself\u001b[0m\u001b[0;34m.\u001b[0m\u001b[0mdtype\u001b[0m\u001b[0;34m,\u001b[0m \u001b[0mother\u001b[0m\u001b[0;34m.\u001b[0m\u001b[0mdtype\u001b[0m\u001b[0;34m)\u001b[0m\u001b[0;34m)\u001b[0m\u001b[0;34m\u001b[0m\u001b[0m\n\u001b[1;32m    498\u001b[0m \u001b[0;34m\u001b[0m\u001b[0m\n",
      "\u001b[0;31mMemoryError\u001b[0m: "
     ]
    }
   ],
   "source": [
    "# training model\n",
    "model,train_vec_x = train(training_events, labels)"
   ]
  },
  {
   "cell_type": "code",
   "execution_count": null,
   "metadata": {
    "collapsed": true
   },
   "outputs": [],
   "source": [
    "parameters = [40,60,80,100,120,140,160,180,200]\n",
    "for b in parameters:\n",
    "    val_CTR=RTB_simulation_linear(model, validation_path, training_path, b)\n",
    "    print('Bid: ' + str(b))\n",
    "    print('CTR: ' + str(val_CTR))"
   ]
  }
 ],
 "metadata": {
  "kernelspec": {
   "display_name": "Python 3",
   "language": "python",
   "name": "python3"
  },
  "language_info": {
   "codemirror_mode": {
    "name": "ipython",
    "version": 3
   },
   "file_extension": ".py",
   "mimetype": "text/x-python",
   "name": "python",
   "nbconvert_exporter": "python",
   "pygments_lexer": "ipython3",
   "version": "3.5.2"
  }
 },
 "nbformat": 4,
 "nbformat_minor": 0
}
